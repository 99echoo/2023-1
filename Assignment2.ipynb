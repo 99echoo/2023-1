{
 "cells": [
  {
   "cell_type": "code",
   "execution_count": 5,
   "id": "ea177717",
   "metadata": {},
   "outputs": [
    {
     "name": "stdout",
     "output_type": "stream",
     "text": [
      "Acc: 0.749, Precision: 0.700, Recall: 0.700\n"
     ]
    }
   ],
   "source": [
    "###random forest모형을 만들고 중요도 산출하기###\n",
    "\n",
    "import pandas as pd\n",
    "\n",
    "## 1. read dataset\n",
    "df = pd.read_csv(\"C:/Users/user/Desktop/오퍼레이션/train.csv\")\n",
    "\n",
    "## 2. make dummies\n",
    "df['Sex'] = df['Sex'].astype('category')\n",
    "df['Embarked'] = df['Embarked'].astype('category')\n",
    "df['Pclass'] = df['Pclass'].astype('category')\n",
    "\n",
    "## Perform one-hot encoding\n",
    "df = pd.get_dummies(df, columns=['Sex', 'Embarked', 'Pclass'])\n",
    "\n",
    "## 3. data splitting\n",
    "Y = df['Survived']\n",
    "X = df.drop('Survived', axis=1)\n",
    "from sklearn.model_selection import train_test_split\n",
    "X_train, X_test, Y_train, Y_test = train_test_split(X, Y, test_size=0.3, random_state=0)\n",
    "\n",
    "## 4. model fitting and prediction\n",
    "from sklearn.tree import DecisionTreeClassifier\n",
    "dt_model = DecisionTreeClassifier()\n",
    "dt_model.fit(X_train, Y_train)\n",
    "Y_pred = dt_model.predict(X_test)\n",
    "\n",
    "## 5. performance evaluation\n",
    "from sklearn.metrics import confusion_matrix, accuracy_score, precision_score, recall_score\n",
    "cm = confusion_matrix(Y_test, Y_pred)\n",
    "accuracy = accuracy_score(Y_test, Y_pred)\n",
    "precision = precision_score(Y_test, Y_pred)\n",
    "recall = recall_score(Y_test, Y_pred)\n",
    "print('Acc: {:.3f}, Precision: {:.3f}, Recall: {:.3f}'.format(accuracy, precision, recall))"
   ]
  },
  {
   "cell_type": "code",
   "execution_count": 6,
   "id": "c5f7e2aa",
   "metadata": {},
   "outputs": [
    {
     "name": "stdout",
     "output_type": "stream",
     "text": [
      "Acc:0.759,Precision:0.714,Recall:0.685\n"
     ]
    }
   ],
   "source": [
    "import pandas as pd\n",
    "### 엑셀 파일 불러오기 ###\n",
    "df = pd.read_csv(\"C:/Users/user/Desktop/오퍼레이션/train.csv\")\n",
    "\n",
    "### 더미 만들기###\n",
    "df['Sex'] = df['Sex'].astype('category')\n",
    "df['Embarked'] = df['Embarked'].astype('category')\n",
    "\n",
    "### one-hot encoding###\n",
    "df = pd.get_dummies(df, columns=['Sex', 'Embarked'])\n",
    "\n",
    "Y = df['Survived']\n",
    "X = df.loc[:,~df.columns.isin(['Survived'])]\n",
    "\n",
    "from sklearn.model_selection import train_test_split\n",
    "X_train,X_test,Y_train,Y_test = train_test_split(X,Y,test_size=0.5,random_state=0)\n",
    "\n",
    "#from sklearn.tree import DecisionTreeClassifier\n",
    "#dt_model = DecisionTreeClassifier()\n",
    "#dt_model.fit(X_train,Y_train)\n",
    "#Y_pred = dt_model.predict(X_test)\n",
    "\n",
    "from sklearn.ensemble import RandomForestClassifier\n",
    "rf_model = RandomForestClassifier()\n",
    "rf_model.fit(X_train,Y_train)\n",
    "Y_pred_rf = rf_model.predict(X_test)\n",
    "\n",
    "\n",
    "from sklearn.metrics import confusion_matrix, accuracy_score, precision_score, recall_score\n",
    "confusion_matrix(Y_test,Y_pred_rf)\n",
    "accuracy = accuracy_score(Y_test,Y_pred_rf)\n",
    "precision = precision_score(Y_test,Y_pred_rf)\n",
    "recall = recall_score(Y_test,Y_pred_rf)\n",
    "print('Acc:{0:.3f},Precision:{1:.3f},Recall:{2:.3f}'.format(accuracy,precision,recall))"
   ]
  },
  {
   "cell_type": "code",
   "execution_count": 14,
   "id": "83b917b9",
   "metadata": {},
   "outputs": [
    {
     "name": "stdout",
     "output_type": "stream",
     "text": [
      "      Feature  Importance\n",
      "1         Age    0.267757\n",
      "4        Fare    0.247963\n",
      "6    Sex_male    0.132425\n",
      "5  Sex_female    0.126464\n",
      "0      Pclass    0.097985\n",
      "2       SibSp    0.051310\n",
      "3       Parch    0.042366\n",
      "7  Embarked_C    0.017863\n",
      "9  Embarked_S    0.010196\n",
      "8  Embarked_Q    0.005672\n"
     ]
    }
   ],
   "source": [
    "import pandas as pd\n",
    "### 엑셀 파일 불러오기 ###\n",
    "df = pd.read_csv(\"C:/Users/user/Desktop/오퍼레이션/train.csv\")\n",
    "### 더미 만들기###\n",
    "df['Sex'] = df['Sex'].astype('category')\n",
    "df['Embarked'] = df['Embarked'].astype('category')\n",
    "\n",
    "### one-hot encoding###\n",
    "df = pd.get_dummies(df, columns=['Sex', 'Embarked'])\n",
    "\n",
    "from sklearn.model_selection import train_test_split\n",
    "X = df.drop(columns=['Survived'])\n",
    "y = df['Survived']\n",
    "X_train, X_test, y_train, y_test = train_test_split(X, y, test_size=0.3, random_state=0)\n",
    "\n",
    "from sklearn.ensemble import RandomForestClassifier\n",
    "rf_model = RandomForestClassifier()\n",
    "rf_model.fit(X_train, y_train)\n",
    "\n",
    "importances = rf_model.feature_importances_\n",
    "feature_names = X.columns\n",
    "feature_importances = pd.DataFrame({'Feature': feature_names, 'Importance': importances})\n",
    "feature_importances = feature_importances.sort_values(by='Importance', ascending=False)\n",
    "print(feature_importances)"
   ]
  },
  {
   "cell_type": "code",
   "execution_count": null,
   "id": "448f6868",
   "metadata": {},
   "outputs": [],
   "source": [
    "import graphviz\n",
    "from sklearn.tree import export_graphviz\n",
    "\n",
    "dot_data = export_graphviz(rf_model.estimators_[0], out_file=None, \n",
    "                           feature_names=X.columns, class_names=['0', '1'],\n",
    "                           filled=True, rounded=True)\n",
    "\n",
    "graph = graphviz.Source(dot_data)\n",
    "graph.render(\"random_forest\")\n",
    "graph.view()"
   ]
  }
 ],
 "metadata": {
  "kernelspec": {
   "display_name": "Python 3 (ipykernel)",
   "language": "python",
   "name": "python3"
  },
  "language_info": {
   "codemirror_mode": {
    "name": "ipython",
    "version": 3
   },
   "file_extension": ".py",
   "mimetype": "text/x-python",
   "name": "python",
   "nbconvert_exporter": "python",
   "pygments_lexer": "ipython3",
   "version": "3.9.13"
  }
 },
 "nbformat": 4,
 "nbformat_minor": 5
}
